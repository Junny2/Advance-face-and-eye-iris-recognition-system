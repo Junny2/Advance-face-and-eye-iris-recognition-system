{
 "cells": [
  {
   "cell_type": "raw",
   "metadata": {},
   "source": [
    "To locate the eye from the image"
   ]
  },
  {
   "cell_type": "code",
   "execution_count": 1,
   "metadata": {},
   "outputs": [],
   "source": [
    "import cv2\n",
    "import numpy as np"
   ]
  },
  {
   "cell_type": "code",
   "execution_count": 70,
   "metadata": {},
   "outputs": [],
   "source": [
    "path = \"../Resources/eye_motion_tracking/eye_recording.flv\"\n",
    "cap = cv2.VideoCapture(path)"
   ]
  },
  {
   "cell_type": "code",
   "execution_count": 72,
   "metadata": {},
   "outputs": [
    {
     "ename": "TypeError",
     "evalue": "'NoneType' object is not subscriptable",
     "output_type": "error",
     "traceback": [
      "\u001b[1;31m---------------------------------------------------------------------------\u001b[0m",
      "\u001b[1;31mTypeError\u001b[0m                                 Traceback (most recent call last)",
      "\u001b[1;32m<ipython-input-72-3b3f6b8390a2>\u001b[0m in \u001b[0;36m<module>\u001b[1;34m\u001b[0m\n\u001b[0;32m      6\u001b[0m \u001b[1;33m\u001b[0m\u001b[0m\n\u001b[0;32m      7\u001b[0m \u001b[1;33m\u001b[0m\u001b[0m\n\u001b[1;32m----> 8\u001b[1;33m     \u001b[0mroi\u001b[0m \u001b[1;33m=\u001b[0m \u001b[0mframe\u001b[0m\u001b[1;33m[\u001b[0m\u001b[1;36m269\u001b[0m\u001b[1;33m:\u001b[0m\u001b[1;36m795\u001b[0m\u001b[1;33m,\u001b[0m \u001b[1;36m537\u001b[0m\u001b[1;33m:\u001b[0m \u001b[1;36m1410\u001b[0m\u001b[1;33m]\u001b[0m\u001b[1;33m\u001b[0m\u001b[1;33m\u001b[0m\u001b[0m\n\u001b[0m\u001b[0;32m      9\u001b[0m \u001b[1;33m\u001b[0m\u001b[0m\n\u001b[0;32m     10\u001b[0m     \u001b[0mrows\u001b[0m\u001b[1;33m,\u001b[0m \u001b[0mcols\u001b[0m \u001b[1;33m=\u001b[0m \u001b[0mroi\u001b[0m\u001b[1;33m.\u001b[0m\u001b[0mshape\u001b[0m\u001b[1;33m[\u001b[0m\u001b[1;33m:\u001b[0m\u001b[1;36m2\u001b[0m\u001b[1;33m]\u001b[0m\u001b[1;33m\u001b[0m\u001b[1;33m\u001b[0m\u001b[0m\n",
      "\u001b[1;31mTypeError\u001b[0m: 'NoneType' object is not subscriptable"
     ]
    }
   ],
   "source": [
    "while True:\n",
    "    ret, frame = cap.read()\n",
    "    if ret == false:\n",
    "        break\n",
    "    #cv2.imshow(\"Frame\", frame)\n",
    "    \n",
    "    \n",
    "    \n",
    "    roi = frame[269:795, 537: 1410]\n",
    "    \n",
    "    rows, cols = roi.shape[:2]\n",
    "    \n",
    "    # Converting to gray scale\n",
    "    roi_gray = cv2.cvtColor(roi, cv2.COLOR_BGR2GRAY)\n",
    "    \n",
    "    \n",
    "    # bluring the image to avoid noise: not perfect way to do:\n",
    "    roi_blur = cv2.GaussianBlur(roi_gray, (7,7), 0)\n",
    "    \n",
    "    # applying some threshold to show only dark parts i.e puple:\n",
    "    # This won't work for othe typees of green and blue eyes:\n",
    "    \n",
    "    _ , roi_threshold = cv2.threshold( roi_blur,3, 255, cv2.THRESH_BINARY_INV )\n",
    "    \n",
    "    # detect the contours:\n",
    "    contours, hierarchy = cv2.findContours(roi_threshold ,cv2.RETR_TREE,cv2.CHAIN_APPROX_SIMPLE) \n",
    "\n",
    "    contours = sorted( contours, key = lambda x: cv2.contourArea(x) , reverse = True)\n",
    "    \n",
    "    for cnt in contours[:1]:\n",
    "        (x,y,w,h) = cv2.boundingRect(cnt)\n",
    "        #cv2.drawContours(roi, [cnt], 0, (0,255,0), 3)\n",
    "        #cv2.rectangle( roi, (x,y), (x + w, y+h), (255,0,0), 3)\n",
    "        cv2.line( roi, (x + int(w/2),0 ), (x + int(w/2), rows), (0,255,0) , 2 )\n",
    "        cv2.line(roi, (0, y + int(h/2)), (cols, y + int(h /2)), (0,225,0),2)\n",
    "    cv2.imshow(\"Threshold\", roi)\n",
    "    \n",
    "    key = cv2.waitKey(30)\n",
    "    \n",
    "    if key == 27:\n",
    "        break\n",
    "cv2.destroyAllWindows()"
   ]
  },
  {
   "cell_type": "code",
   "execution_count": 73,
   "metadata": {},
   "outputs": [],
   "source": [
    "cv2.destroyAllWindows()"
   ]
  },
  {
   "cell_type": "code",
   "execution_count": 67,
   "metadata": {},
   "outputs": [
    {
     "data": {
      "text/plain": [
       "(526, 873, 3)"
      ]
     },
     "execution_count": 67,
     "metadata": {},
     "output_type": "execute_result"
    }
   ],
   "source": [
    "roi.shape"
   ]
  },
  {
   "cell_type": "code",
   "execution_count": null,
   "metadata": {},
   "outputs": [],
   "source": []
  },
  {
   "cell_type": "code",
   "execution_count": null,
   "metadata": {},
   "outputs": [],
   "source": []
  }
 ],
 "metadata": {
  "kernelspec": {
   "display_name": "Python 3",
   "language": "python",
   "name": "python3"
  },
  "language_info": {
   "codemirror_mode": {
    "name": "ipython",
    "version": 3
   },
   "file_extension": ".py",
   "mimetype": "text/x-python",
   "name": "python",
   "nbconvert_exporter": "python",
   "pygments_lexer": "ipython3",
   "version": "3.6.8"
  }
 },
 "nbformat": 4,
 "nbformat_minor": 2
}
